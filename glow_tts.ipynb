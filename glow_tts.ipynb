{
  "nbformat": 4,
  "nbformat_minor": 0,
  "metadata": {
    "colab": {
      "name": "Glow-tts.ipynb",
      "provenance": [],
      "collapsed_sections": [],
      "authorship_tag": "ABX9TyM21HFGx92C0IDplxn3RzAr",
      "include_colab_link": true
    },
    "kernelspec": {
      "name": "python3",
      "display_name": "Python 3"
    },
    "accelerator": "GPU"
  },
  "cells": [
    {
      "cell_type": "markdown",
      "metadata": {
        "id": "view-in-github",
        "colab_type": "text"
      },
      "source": [
        "<a href=\"https://colab.research.google.com/github/marlon-br/glow-tts-colab/blob/master/glow_tts.ipynb\" target=\"_parent\"><img src=\"https://colab.research.google.com/assets/colab-badge.svg\" alt=\"Open In Colab\"/></a>"
      ]
    },
    {
      "cell_type": "code",
      "metadata": {
        "id": "Cz5Q9hDjANe5",
        "colab_type": "code",
        "colab": {}
      },
      "source": [
        "%cd /content\n",
        "!git clone https://github.com/NVIDIA/waveglow waveglow\n",
        "%cd /content/waveglow\n",
        "!gdown https://drive.google.com/uc?id=1rpK8CzAAirq9sWZhe9nlfvxMF1dRgFbF\n",
        "%cd /content\n"
      ],
      "execution_count": 0,
      "outputs": []
    },
    {
      "cell_type": "code",
      "metadata": {
        "id": "jo4iln3XD7dP",
        "colab_type": "code",
        "colab": {}
      },
      "source": [
        "%cd /content\n",
        "!pip3 uninstall apex\n",
        "\n",
        "!git clone https://www.github.com/nvidia/apex apex\n",
        "%cd /content/apex\n",
        "!pip install -v --no-cache-dir --global-option=\"--cpp_ext\" --global-option=\"--cuda_ext\" ./\n",
        "%cd /content"
      ],
      "execution_count": 0,
      "outputs": []
    },
    {
      "cell_type": "code",
      "metadata": {
        "id": "ByAgqWOQC1o0",
        "colab_type": "code",
        "colab": {}
      },
      "source": [
        "import torch\n",
        "\n",
        "%cd /content/waveglow\n",
        "waveglow_path = '/content/waveglow/waveglow_256channels_universal_v5.pt'\n",
        "waveglow = torch.load(waveglow_path)['model']\n",
        "waveglow = waveglow.remove_weightnorm(waveglow)\n",
        "_ = waveglow.cuda().eval()\n",
        "%cd /content"
      ],
      "execution_count": 0,
      "outputs": []
    },
    {
      "cell_type": "code",
      "metadata": {
        "id": "9Ru63H-RDPGw",
        "colab_type": "code",
        "colab": {}
      },
      "source": [
        "from apex import amp\n",
        "waveglow, _ = amp.initialize(waveglow, [], opt_level=\"O3\") # Try if you want to boost up synthesis speed."
      ],
      "execution_count": 0,
      "outputs": []
    },
    {
      "cell_type": "code",
      "metadata": {
        "id": "73-Ck9s1IAwl",
        "colab_type": "code",
        "colab": {}
      },
      "source": [
        "%cd /content/\n",
        "!git clone https://github.com/jaywalnut310/glow-tts glow-tts"
      ],
      "execution_count": 0,
      "outputs": []
    },
    {
      "cell_type": "code",
      "metadata": {
        "id": "O_wlay6QIVoj",
        "colab_type": "code",
        "colab": {}
      },
      "source": [
        "%cd /content/glow-tts\n",
        "import utils\n",
        "!mkdir /content/glow-tts/logs\n",
        "\n",
        "!cp /content/glow-tts/configs/base.json /content/glow-tts/logs/config.json\n",
        "%cd /content/glow-tts/logs\n",
        "!gdown https://drive.google.com/uc?id=1JiCMBVTG4BMREK8cT3MYck1MgYvwASL0\n",
        "%cd /content"
      ],
      "execution_count": 0,
      "outputs": []
    },
    {
      "cell_type": "code",
      "metadata": {
        "id": "N9PZAiS8QK9v",
        "colab_type": "code",
        "colab": {}
      },
      "source": [
        "%cd /content/glow-tts/monotonic_align/\n",
        "!python setup.py install\n",
        "from monotonic_align.core import maximum_path_c"
      ],
      "execution_count": 0,
      "outputs": []
    },
    {
      "cell_type": "code",
      "metadata": {
        "id": "udC9IBQZTcQo",
        "colab_type": "code",
        "colab": {}
      },
      "source": [
        "!pip install Unidecode"
      ],
      "execution_count": 0,
      "outputs": []
    },
    {
      "cell_type": "code",
      "metadata": {
        "id": "c_pz87pIUWzh",
        "colab_type": "code",
        "colab": {}
      },
      "source": [
        "%cd /content/glow-tts/logs"
      ],
      "execution_count": 0,
      "outputs": []
    },
    {
      "cell_type": "code",
      "metadata": {
        "id": "lIVO9kFzKk1H",
        "colab_type": "code",
        "colab": {}
      },
      "source": [
        "%cd /content/glow-tts\n",
        "\n",
        "import models\n",
        "from text import text_to_sequence, cmudict\n",
        "from text.symbols import symbols\n",
        "import glob\n",
        "import os\n",
        "\n",
        "model_dir = \"/logs\"\n",
        "hps = utils.get_hparams_from_dir(model_dir)\n",
        "\n",
        "model = models.FlowGenerator(\n",
        "                              len(symbols),\n",
        "                              out_channels=hps.data.n_mel_channels,\n",
        "                              **hps.model).to(\"cuda\")\n",
        "\n",
        "f_list = glob.glob(os.path.join(\"/logs\", \"*.pth\"))\n",
        "#f_list.sort(key=lambda f: int(\"\".join(filter(str.isdigit, f))))\n",
        "x = f_list[-1]\n",
        "print(x)\n",
        "\n",
        "#checkpoint_path = utils.latest_checkpoint_path(model_dir)\n",
        "utils.load_checkpoint(x, model)\n",
        "model.decoder.store_inverse() # do not calcuate jacobians for fast decoding\n",
        "_ = model.eval()\n",
        "\n",
        "cmu_dict = cmudict.CMUDict(hps.data.cmudict_path)"
      ],
      "execution_count": 0,
      "outputs": []
    },
    {
      "cell_type": "code",
      "metadata": {
        "id": "8a_oe6UwWB6s",
        "colab_type": "code",
        "colab": {}
      },
      "source": [
        "import numpy as np\n",
        "\n",
        "tst_stn = \" Deeeep fakes are really awesome ! \" # Adding spaces at the beginning and the end of utterance improves quality\n",
        "sequence = np.array(text_to_sequence(tst_stn, ['english_cleaners'], cmu_dict))[None, :]\n",
        "print(\"\".join([symbols[c] for c in sequence[0]]))\n",
        "x_tst = torch.autograd.Variable(torch.from_numpy(sequence)).cuda().long()\n",
        "x_tst_lengths = torch.tensor([x_tst.shape[1]]).cuda()"
      ],
      "execution_count": 0,
      "outputs": []
    },
    {
      "cell_type": "code",
      "metadata": {
        "id": "1Y4Mo9ADWJgb",
        "colab_type": "code",
        "colab": {}
      },
      "source": [
        "import IPython.display as ipd\n",
        "\n",
        "with torch.no_grad():\n",
        "  noise_scale = .667\n",
        "  length_scale = 1.0\n",
        "  (y_gen_tst, *r), attn_gen, *_ = model(x_tst, x_tst_lengths, gen=True, noise_scale=noise_scale, length_scale=length_scale)\n",
        "  try:\n",
        "    audio = waveglow.infer(y_gen_tst.half(), sigma=.666)\n",
        "  except:\n",
        "    audio = waveglow.infer(y_gen_tst, sigma=.666)\n",
        "ipd.Audio(audio[0].clamp(-1,1).data.cpu().float().numpy(), rate=hps.data.sampling_rate)"
      ],
      "execution_count": 0,
      "outputs": []
    }
  ]
}