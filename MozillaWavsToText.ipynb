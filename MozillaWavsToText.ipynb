{
  "nbformat": 4,
  "nbformat_minor": 0,
  "metadata": {
    "colab": {
      "name": "MozillaWavsToText.ipynb",
      "provenance": [],
      "collapsed_sections": [],
      "mount_file_id": "1_qG_gh5OeM9QQBtlbLchA9_ni_CRUp0Z",
      "authorship_tag": "ABX9TyOpI+3E8EoyDL9+BH3KqiU1",
      "include_colab_link": true
    },
    "kernelspec": {
      "name": "python3",
      "display_name": "Python 3"
    }
  },
  "cells": [
    {
      "cell_type": "markdown",
      "metadata": {
        "id": "view-in-github",
        "colab_type": "text"
      },
      "source": [
        "<a href=\"https://colab.research.google.com/github/marlon-br/glow-tts-colab/blob/master/MozillaWavsToText.ipynb\" target=\"_parent\"><img src=\"https://colab.research.google.com/assets/colab-badge.svg\" alt=\"Open In Colab\"/></a>"
      ]
    },
    {
      "cell_type": "code",
      "metadata": {
        "id": "glSAGhAukyb0",
        "colab_type": "code",
        "colab": {
          "base_uri": "https://localhost:8080/",
          "height": 340
        },
        "outputId": "fd39e1c8-0187-458a-8c2f-1715f4437431"
      },
      "source": [
        "!pip install deepspeech==0.7.3\n",
        "!apt -qq install -y sox"
      ],
      "execution_count": 23,
      "outputs": [
        {
          "output_type": "stream",
          "text": [
            "Collecting deepspeech==0.7.3\n",
            "\u001b[?25l  Downloading https://files.pythonhosted.org/packages/1e/08/117fe0a444ccf0d9f03e91150ebe3dd829983669bb9a766b290f3d222435/deepspeech-0.7.3-cp36-cp36m-manylinux1_x86_64.whl (9.7MB)\n",
            "\u001b[K     |████████████████████████████████| 9.7MB 2.7MB/s \n",
            "\u001b[?25hRequirement already satisfied: numpy in /usr/local/lib/python3.6/dist-packages (from deepspeech==0.7.3) (1.18.5)\n",
            "Installing collected packages: deepspeech\n",
            "  Found existing installation: deepspeech 0.6.0\n",
            "    Uninstalling deepspeech-0.6.0:\n",
            "      Successfully uninstalled deepspeech-0.6.0\n",
            "Successfully installed deepspeech-0.7.3\n"
          ],
          "name": "stdout"
        },
        {
          "output_type": "display_data",
          "data": {
            "application/vnd.colab-display-data+json": {
              "pip_warning": {
                "packages": [
                  "deepspeech"
                ]
              }
            }
          },
          "metadata": {
            "tags": []
          }
        },
        {
          "output_type": "stream",
          "text": [
            "sox is already the newest version (14.4.2-3ubuntu0.18.04.1).\n",
            "The following package was automatically installed and is no longer required:\n",
            "  libnvidia-common-440\n",
            "Use 'apt autoremove' to remove it.\n",
            "0 upgraded, 0 newly installed, 0 to remove and 43 not upgraded.\n"
          ],
          "name": "stdout"
        }
      ]
    },
    {
      "cell_type": "code",
      "metadata": {
        "id": "A0tvn1dbk58S",
        "colab_type": "code",
        "colab": {
          "base_uri": "https://localhost:8080/",
          "height": 153
        },
        "outputId": "e977d075-0bfd-484b-b156-71e6906c7cad"
      },
      "source": [
        "!curl -LO https://github.com/mozilla/DeepSpeech/releases/download/v0.7.3/deepspeech-0.7.3-models.pbmm\n",
        "!curl -LO https://github.com/mozilla/DeepSpeech/releases/download/v0.7.3/deepspeech-0.7.3-models.scorer"
      ],
      "execution_count": 5,
      "outputs": [
        {
          "output_type": "stream",
          "text": [
            "  % Total    % Received % Xferd  Average Speed   Time    Time     Time  Current\n",
            "                                 Dload  Upload   Total   Spent    Left  Speed\n",
            "100   639  100   639    0     0    936      0 --:--:-- --:--:-- --:--:--   935\n",
            "100  180M  100  180M    0     0  13.0M      0  0:00:13  0:00:13 --:--:-- 16.5M\n",
            "  % Total    % Received % Xferd  Average Speed   Time    Time     Time  Current\n",
            "                                 Dload  Upload   Total   Spent    Left  Speed\n",
            "100   641  100   641    0     0    956      0 --:--:-- --:--:-- --:--:--   956\n",
            "100  909M  100  909M    0     0  15.6M      0  0:00:57  0:00:57 --:--:-- 16.1M\n"
          ],
          "name": "stdout"
        }
      ]
    },
    {
      "cell_type": "code",
      "metadata": {
        "id": "NVMMpVRlk8EM",
        "colab_type": "code",
        "colab": {
          "base_uri": "https://localhost:8080/",
          "height": 204
        },
        "outputId": "313450fc-e58b-4d6d-86a4-165414fcaeaf"
      },
      "source": [
        "!deepspeech --model deepspeech-0.7.3-models.pbmm --scorer deepspeech-0.7.3-models.scorer --audio \"/content/drive/My Drive/wavs-vctk/speakers/p229/p229_001.wav\""
      ],
      "execution_count": 6,
      "outputs": [
        {
          "output_type": "stream",
          "text": [
            "Loading model from file deepspeech-0.7.3-models.pbmm\n",
            "TensorFlow: v1.15.0-24-gceb46aa\n",
            "DeepSpeech: v0.7.3-0-g8858494\n",
            "2020-06-18 09:19:57.388496: I tensorflow/core/platform/cpu_feature_guard.cc:142] Your CPU supports instructions that this TensorFlow binary was not compiled to use: AVX2 FMA\n",
            "Loaded model in 0.00872s.\n",
            "Loading scorer from files deepspeech-0.7.3-models.scorer\n",
            "Loaded scorer in 0.000214s.\n",
            "Warning: original sample rate (48000) is different than 16000hz. Resampling might produce erratic speech recognition.\n",
            "Running inference.\n",
            "please call della\n",
            "Inference took 1.446s for 2.136s audio file.\n"
          ],
          "name": "stdout"
        }
      ]
    },
    {
      "cell_type": "code",
      "metadata": {
        "id": "a9EUfo8mlBgO",
        "colab_type": "code",
        "colab": {
          "base_uri": "https://localhost:8080/",
          "height": 34
        },
        "outputId": "3f185bff-27cb-4304-faa6-82c7588f411f"
      },
      "source": [
        "import deepspeech\n",
        "\n",
        "model = deepspeech.Model('deepspeech-0.7.3-models.pbmm')\n",
        "model.setBeamWidth(500)\n",
        "model.enableExternalScorer('deepspeech-0.7.3-models.scorer')\n",
        "model.setScorerAlphaBeta(0.75, 1.85)\n",
        "\n",
        "# Add language model for better accuracy\n",
        "#lm_file_path = 'deepspeech-0.6.0-models/lm.binary'\n",
        "#trie_file_path = 'deepspeech-0.6.0-models/trie'\n",
        "#lm_alpha = 0.75\n",
        "#lm_beta = 1.85\n",
        "#model.enableDecoderWithLM(lm_file_path, trie_file_path, lm_alpha, lm_beta)"
      ],
      "execution_count": 15,
      "outputs": [
        {
          "output_type": "execute_result",
          "data": {
            "text/plain": [
              "0"
            ]
          },
          "metadata": {
            "tags": []
          },
          "execution_count": 15
        }
      ]
    },
    {
      "cell_type": "code",
      "metadata": {
        "id": "IAmGSY3hnCuP",
        "colab_type": "code",
        "colab": {}
      },
      "source": [
        "from typing import Tuple\n",
        "import wave\n",
        "import sox\n",
        "import numpy as np\n",
        "\n",
        "temp_filename = '/content/output.wav'\n",
        "tfm = sox.Transformer()\n",
        "tfm.set_output_format(rate=16000)\n",
        "\n",
        "def read_wav_file(filename) -> Tuple[bytes, int]:\n",
        "\n",
        "    sample_rate = sox.file_info.sample_rate(filename)\n",
        "\n",
        "    if (sample_rate != 16000):\n",
        "        print(\"resampling\")\n",
        "\n",
        "        \n",
        "        status = tfm.build(input_filepath=filename,\n",
        "                            output_filepath=temp_filename)\n",
        "        \n",
        "        filename = temp_filename\n",
        "\n",
        "    with wave.open(filename, 'rb') as w:\n",
        "        rate = w.getframerate()\n",
        "        frames = w.getnframes()\n",
        "        buffer = w.readframes(frames)\n",
        "\n",
        "    return buffer, rate"
      ],
      "execution_count": 9,
      "outputs": []
    },
    {
      "cell_type": "code",
      "metadata": {
        "id": "IlEobjFllGm-",
        "colab_type": "code",
        "colab": {
          "base_uri": "https://localhost:8080/",
          "height": 221
        },
        "outputId": "3aa76f82-dea9-45eb-f2b6-df288cb9893d"
      },
      "source": [
        "import numpy as np\n",
        "import os\n",
        "\n",
        "\n",
        "!rm -r /content/results\n",
        "!mkdir /content/results\n",
        "\n",
        "files_dir = \"p229\"\n",
        "full_files_path = os.path.join(\"/content/drive/My Drive/wavs-vctk/speakers\", files_dir)\n",
        "\n",
        "new_filename = os.path.join(\"/content/results\", \"speaker_p229.csv\")\n",
        "\n",
        "file = open(new_filename,\"w\")\n",
        "\n",
        "for i, filename in enumerate(os.listdir(full_files_path)[:3]):\n",
        "    print(filename)\n",
        "    full_path = os.path.join(full_files_path, filename)\n",
        "\n",
        "\n",
        "    buffer, rate = read_wav_file(full_path)\n",
        "    data16 = np.frombuffer(buffer, dtype=np.int16)\n",
        "\n",
        "    output_string = model.stt(data16)\n",
        "    print(output_string)\n",
        "\n",
        "    #new_item = str(i) + \",\" + os.path.join(files_dir, filename) + \",\" + output_string + \"~\\n\"\n",
        "    #print(new_item)      \n",
        "    #file.write(new_item)\n",
        "\n",
        "file.close() "
      ],
      "execution_count": 18,
      "outputs": [
        {
          "output_type": "stream",
          "text": [
            "output_file: /content/output.wav already exists and will be overwritten on build\n"
          ],
          "name": "stderr"
        },
        {
          "output_type": "stream",
          "text": [
            "p229_004.wav\n",
            "resampling\n"
          ],
          "name": "stdout"
        },
        {
          "output_type": "stream",
          "text": [
            "output_file: /content/output.wav already exists and will be overwritten on build\n"
          ],
          "name": "stderr"
        },
        {
          "output_type": "stream",
          "text": [
            "we also need a small plastic snake and a big toy folk for the kids\n",
            "p229_006.wav\n",
            "resampling\n"
          ],
          "name": "stdout"
        },
        {
          "output_type": "stream",
          "text": [
            "output_file: /content/output.wav already exists and will be overwritten on build\n"
          ],
          "name": "stderr"
        },
        {
          "output_type": "stream",
          "text": [
            "when the sunlight strikes range up in the air they act as a prism and former rainbow\n",
            "p229_002.wav\n",
            "resampling\n",
            "ask had to bring these things with her from the store\n"
          ],
          "name": "stdout"
        }
      ]
    }
  ]
}