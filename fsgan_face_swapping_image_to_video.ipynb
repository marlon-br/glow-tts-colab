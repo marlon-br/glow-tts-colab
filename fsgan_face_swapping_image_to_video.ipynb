{
  "nbformat": 4,
  "nbformat_minor": 0,
  "metadata": {
    "colab": {
      "name": "fsgan_face_swapping_image_to_video.ipynb",
      "provenance": [],
      "collapsed_sections": [],
      "toc_visible": true,
      "include_colab_link": true
    },
    "kernelspec": {
      "name": "python3",
      "display_name": "Python 3"
    },
    "accelerator": "GPU",
    "pycharm": {
      "stem_cell": {
        "cell_type": "raw",
        "source": [],
        "metadata": {
          "collapsed": false
        }
      }
    }
  },
  "cells": [
    {
      "cell_type": "markdown",
      "metadata": {
        "id": "view-in-github",
        "colab_type": "text"
      },
      "source": [
        "<a href=\"https://colab.research.google.com/github/marlon-br/glow-tts-colab/blob/master/fsgan_face_swapping_image_to_video.ipynb\" target=\"_parent\"><img src=\"https://colab.research.google.com/assets/colab-badge.svg\" alt=\"Open In Colab\"/></a>"
      ]
    },
    {
      "cell_type": "markdown",
      "metadata": {
        "id": "2pTZin5T0Xx-",
        "colab_type": "text"
      },
      "source": [
        "A Tesla P100 GPU is required for this demo. Let's make sure that we have it:"
      ]
    },
    {
      "cell_type": "code",
      "metadata": {
        "id": "P3OqxFS8xKfP",
        "colab_type": "code",
        "colab": {}
      },
      "source": [
        "!nvidia-smi"
      ],
      "execution_count": null,
      "outputs": []
    },
    {
      "cell_type": "markdown",
      "metadata": {
        "id": "IretezXP3cUw",
        "colab_type": "text"
      },
      "source": [
        "### Installation"
      ]
    },
    {
      "cell_type": "code",
      "metadata": {
        "id": "1znv0kTq3oCh",
        "colab_type": "code",
        "colab": {}
      },
      "source": [
        "import sys\n",
        "from IPython.display import HTML, clear_output\n",
        "from base64 import b64encode\n",
        "\n",
        "# Install the required dependencies\n",
        "!wget https://repo.anaconda.com/miniconda/Miniconda3-latest-Linux-x86_64.sh\n",
        "!bash Miniconda3-latest-Linux-x86_64.sh -bfp /usr/local\n",
        "!rm Miniconda3-latest-Linux-x86_64.sh\n",
        "\n",
        "!conda install pytorch torchvision cudatoolkit=10.1 -c pytorch -y\n",
        "!conda install -c conda-forge yacs -y\n",
        "!pip install opencv-python ffmpeg-python youtube-dl\n",
        "\n",
        "!mkdir -p /content/projects/\n",
        "%cd /content/projects/\n",
        "!git clone https://github.com/YuvalNirkin/face_detection_dsfd\n",
        "!git clone https://github.com/YuvalNirkin/fsgan.git\n",
        "\n",
        "sys.path += ['/usr/local/lib/python3.7/site-packages', '/content/projects']\n",
        "\n",
        "# Initialize source and target videos from the repository examples\n",
        "!mkdir -p /content/data\n",
        "!cp /content/projects/fsgan/docs/examples/shinzo_abe.mp4 /content/data/source.mp4\n",
        "!cp /content/projects/fsgan/docs/examples/conan_obrien.mp4 /content/data/target.mp4\n",
        "\n",
        "# Utility functions\n",
        "import ffmpeg\n",
        "\n",
        "def encode_audio(video_path, audio_path, output_path):\n",
        "  ffmpeg.concat(ffmpeg.input(video_path), ffmpeg.input(audio_path), v=1, a=1) \\\n",
        "    .output(output_path, strict='-2').run(overwrite_output=True)\n",
        "\n",
        "\n",
        "def display_video(video_path, width=640, clear=True):\n",
        "  vid_data = open(video_path,'rb').read()\n",
        "  vid_url = 'data:video/mp4;base64,' + b64encode(vid_data).decode()\n",
        "\n",
        "  if clear:\n",
        "    clear_output()\n",
        "\n",
        "  return HTML(f\"\"\"\n",
        "  <video width={width} controls>\n",
        "    <source src={vid_url} type=\"video/mp4\">\n",
        "  </video>\n",
        "  \"\"\")"
      ],
      "execution_count": null,
      "outputs": []
    },
    {
      "cell_type": "markdown",
      "metadata": {
        "id": "ax4cBQlyrUUz",
        "colab_type": "text"
      },
      "source": [
        "Mount your Google Drive using the following step or click on \"Mount Drive\" in the menu to the left"
      ]
    },
    {
      "cell_type": "code",
      "metadata": {
        "id": "ajSEdIOgrXz7",
        "colab_type": "code",
        "colab": {}
      },
      "source": [
        "from google.colab import drive\n",
        "drive.mount('/content/drive')"
      ],
      "execution_count": null,
      "outputs": []
    },
    {
      "cell_type": "markdown",
      "metadata": {
        "id": "RonCHu9SLMwm",
        "colab_type": "text"
      },
      "source": [
        "### Initialize face swapping"
      ]
    },
    {
      "cell_type": "code",
      "metadata": {
        "id": "DYh2jCUYrzLl",
        "colab_type": "code",
        "colab": {}
      },
      "source": [
        "import os\n",
        "from fsgan.inference.swap import FaceSwapping\n",
        "from fsgan.criterions.vgg_loss import VGGLoss\n",
        "\n",
        "#@markdown This step should only be done once unless one of the\n",
        "#@markdown following parameters is changed:\n",
        "\n",
        "#@markdown ---\n",
        "#@markdown Path to the weights directory (make sure it is correct):\n",
        "weights_dir = '/content/drive/My Drive/fsgan/weights' #@param {type:\"string\"}\n",
        "#@markdown Number of finetune iterations on the source subject:\n",
        "finetune_iterations = 800 #@param {type:\"slider\", min:100, max:2000, step:1}\n",
        "#@markdown If True, the inner part of the mouth will be removed from the segmentation:\n",
        "seg_remove_mouth = True #@param {type:\"boolean\"}\n",
        "#@markdown ---\n",
        "\n",
        "\n",
        "detection_model = os.path.join(weights_dir, 'v2/WIDERFace_DSFD_RES152.pth')\n",
        "pose_model = os.path.join(weights_dir, 'shared/hopenet_robust_alpha1.pth')\n",
        "lms_model = os.path.join(weights_dir, 'v2/hr18_wflw_landmarks.pth')\n",
        "seg_model = os.path.join(weights_dir, 'v2/celeba_unet_256_1_2_segmentation_v2.pth')\n",
        "reenactment_model = os.path.join(weights_dir, 'v2/nfv_msrunet_256_1_2_reenactment_v2.1.pth')\n",
        "completion_model = os.path.join(weights_dir, 'v2/ijbc_msrunet_256_1_2_inpainting_v2.pth')\n",
        "blending_model = os.path.join(weights_dir, 'v2/ijbc_msrunet_256_1_2_blending_v2.pth')\n",
        "criterion_id_path = os.path.join(weights_dir, 'v2/vggface2_vgg19_256_1_2_id.pth')\n",
        "criterion_id = VGGLoss(criterion_id_path)\n",
        "\n",
        "\n",
        "face_swapping = FaceSwapping(\n",
        "    detection_model=detection_model, pose_model=pose_model, lms_model=lms_model,\n",
        "    seg_model=seg_model, reenactment_model=reenactment_model,\n",
        "    completion_model=completion_model, blending_model=blending_model,\n",
        "    criterion_id=criterion_id,\n",
        "    finetune=True, finetune_save=True, finetune_iterations=finetune_iterations,\n",
        "    seg_remove_mouth=finetune_iterations, batch_size=16, seg_batch_size=48,\n",
        "    encoder_codec='mp4v')"
      ],
      "execution_count": null,
      "outputs": []
    },
    {
      "cell_type": "markdown",
      "metadata": {
        "id": "EfzVJkcFGGPG",
        "colab_type": "text"
      },
      "source": [
        "**Upload single image:**"
      ]
    },
    {
      "cell_type": "code",
      "metadata": {
        "id": "M1KrZZbYFMEZ",
        "colab_type": "code",
        "colab": {}
      },
      "source": [
        "from google.colab import files\n",
        "uploaded = files.upload()\n",
        "\n",
        "for fn in uploaded.keys():\n",
        "  image_name = fn"
      ],
      "execution_count": null,
      "outputs": []
    },
    {
      "cell_type": "markdown",
      "metadata": {
        "id": "hdel2jBWGoWX",
        "colab_type": "text"
      },
      "source": [
        "**Upload single video:**"
      ]
    },
    {
      "cell_type": "code",
      "metadata": {
        "id": "uf9g9XnYGnoP",
        "colab_type": "code",
        "colab": {}
      },
      "source": [
        "from google.colab import files\n",
        "uploaded = files.upload()\n",
        "\n",
        "for fn in uploaded.keys():\n",
        "  video_name = fn"
      ],
      "execution_count": null,
      "outputs": []
    },
    {
      "cell_type": "code",
      "metadata": {
        "id": "HU5IMY0CHqm9",
        "colab_type": "code",
        "colab": {}
      },
      "source": [
        "input_file = '/content/projects/' + video_name\n",
        "!ffmpeg -y -i \"$input_file\" -r 25 /content/source.mp4"
      ],
      "execution_count": null,
      "outputs": []
    },
    {
      "cell_type": "markdown",
      "metadata": {
        "id": "jgx1z8G3VWO8",
        "colab_type": "text"
      },
      "source": [
        "### Do face swapping"
      ]
    },
    {
      "cell_type": "code",
      "metadata": {
        "id": "hbiB7je2Vb5q",
        "colab_type": "code",
        "colab": {}
      },
      "source": [
        "# Do face swapping\n",
        "#@markdown ---\n",
        "#@markdown Toggle whether to finetune the reenactment generator:\n",
        "finetune = True #@param {type:\"boolean\"}\n",
        "#@markdown Source selection method [\"longest\" | sequence number]:\n",
        "select_source = 'longest' #@param {type:\"string\"}\n",
        "#@markdown Target selection method [\"longest\" | sequence number]:\n",
        "select_target = 'longest' #@param {type:\"string\"}\n",
        "#@markdown ---\n",
        "source_path = '/content/projects/' + image_name\n",
        "target_path = '/content/source.mp4' \n",
        "output_tmp_path = '/content/data/output_tmp.mp4'\n",
        "output_path = '/content/output.mp4'\n",
        "face_swapping(source_path, target_path, output_tmp_path,\n",
        "              select_source, select_target, finetune)\n",
        "\n",
        "# Encode with audio and display result\n",
        "encode_audio(output_tmp_path, target_path, output_path)\n",
        "os.remove(output_tmp_path)\n",
        "display_video(output_path)"
      ],
      "execution_count": null,
      "outputs": []
    }
  ]
}